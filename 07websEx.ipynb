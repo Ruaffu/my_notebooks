{
 "cells": [
  {
   "cell_type": "markdown",
   "id": "4b899fda-d490-42d9-b5b2-658a9a8248da",
   "metadata": {},
   "source": [
    "# 7 Webscraping exercise"
   ]
  },
  {
   "cell_type": "code",
   "execution_count": null,
   "id": "7184b022-d765-4f57-ad9d-215f96851d72",
   "metadata": {},
   "outputs": [],
   "source": [
    "import bs4\n",
    "import requests\n",
    "\n",
    "def simple_web_scraper():\n",
    "    \n",
    "\n"
   ]
  }
 ],
 "metadata": {
  "kernelspec": {
   "display_name": "Python 3 (ipykernel)",
   "language": "python",
   "name": "python3"
  },
  "language_info": {
   "codemirror_mode": {
    "name": "ipython",
    "version": 3
   },
   "file_extension": ".py",
   "mimetype": "text/x-python",
   "name": "python",
   "nbconvert_exporter": "python",
   "pygments_lexer": "ipython3",
   "version": "3.10.5"
  }
 },
 "nbformat": 4,
 "nbformat_minor": 5
}
