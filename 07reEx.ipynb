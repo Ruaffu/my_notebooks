{
 "cells": [
  {
   "cell_type": "markdown",
   "id": "880f4b01-9a34-44ec-9d0a-7c97a7766e11",
   "metadata": {},
   "source": [
    "# Regular expressions Exerciseses"
   ]
  },
  {
   "cell_type": "code",
   "execution_count": 13,
   "id": "34d6c611-7dfe-46bc-9f34-2a5b44b0ba50",
   "metadata": {},
   "outputs": [
    {
     "name": "stdout",
     "output_type": "stream",
     "text": [
      "['Hansen', 'Beier', 'Jensen', 'Kold', 'Harold']\n",
      "Peter Hansen\n"
     ]
    }
   ],
   "source": [
    "#01\n",
    "import re\n",
    "\n",
    "find_peter = re.compile(r'Peter (\\w+)')\n",
    "text_string = \"\"\"Peter Hansen was meeting up with Jacob Fransen for a quick lunch, \n",
    "but first he had to go by Peter Beier to pick up some chocolate for his wife. \n",
    "Meanwhile Pastor Peter Jensen was going to church to give his sermon for the same 3 people in his parish. \n",
    "Those were Peter Kold and Henrik Halberg plus a third person who had recently moved here from Norway \n",
    "called Peter Harold\"\"\"\n",
    "found = find_peter.findall(text_string)\n",
    "print(found)\n",
    "sur = find_peter.search(text_string)\n",
    "print(sur.group())"
   ]
  },
  {
   "cell_type": "markdown",
   "id": "3d8de891-6124-481a-b411-791cb0a62e80",
   "metadata": {},
   "source": [
    "## 02 exercise\n",
    "\n",
    "We will play with the addresses from data/addresses.txt and the following regex patterns\n",
    "\n",
    "Write a regular expression, that you can use to create 5 lists with:\n",
    "\n",
    "  * all names in the list above\n",
    "  * all telephone numbers \n",
    "  * all zip codes\n",
    "  * all city names with corresponding zip code\n",
    "  * all street names"
   ]
  },
  {
   "cell_type": "code",
   "execution_count": null,
   "id": "201d89ab-6110-4832-8475-b2874a514bf5",
   "metadata": {},
   "outputs": [],
   "source": []
  }
 ],
 "metadata": {
  "kernelspec": {
   "display_name": "Python 3 (ipykernel)",
   "language": "python",
   "name": "python3"
  },
  "language_info": {
   "codemirror_mode": {
    "name": "ipython",
    "version": 3
   },
   "file_extension": ".py",
   "mimetype": "text/x-python",
   "name": "python",
   "nbconvert_exporter": "python",
   "pygments_lexer": "ipython3",
   "version": "3.10.5"
  }
 },
 "nbformat": 4,
 "nbformat_minor": 5
}
