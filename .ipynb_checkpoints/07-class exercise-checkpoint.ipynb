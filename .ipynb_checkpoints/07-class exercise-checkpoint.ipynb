{
 "cells": [
  {
   "cell_type": "markdown",
   "id": "7460e0fe-3328-499d-9df0-f18b27b74e10",
   "metadata": {},
   "source": [
    "# Week 7: Web scraping, BS4, Selenium and Regexp\n",
    "### Part 1\n",
    "##### 30 min\n",
    "1. Make a request to: `https://en.wikipedia.org/wiki/Alan_Turing` and print out the responses .text property\n",
    "2. Find and print the title of the response page\n",
    "3. Find and print content of the first p tag that has content.\n",
    "4. Find and print all content from the TOC\n",
    "##### 20 min\n",
    "5. Create a dictionary from the TOC links like: {'first link':'#this_is_the_first_link}\n",
    "### Pause\n",
    "##### 40 min\n",
    "6. Create a function that can take a word and look for it in the dictionary keys and then return the content from the first link that matches. Return the next p elements until next headline (h3 element).\n",
    "7. Make it into a cli program.\n",
    "\n",
    "### Pause\n",
    "\n",
    "### Part 2\n",
    "##### 40 min\n",
    "1. Using regex find out how many times 'Turing' is used in the article\n",
    "9. Regex: Find all the sentences that has a year in them (sentense defined by: starting at \\n or dot or comma and ending at dot or comma.\n",
    "\n",
    "### Part 3\n",
    "##### 40 min\n",
    "1. Use selenium to go to amazon.com and search for `Pet Shower Cap - Waterproof Reusable Bath Ear Covers`\n",
    "2. Print how many products were found\n",
    "3. Find the cheapest and the most expensive product from the list"
   ]
  },
  {
   "cell_type": "code",
   "execution_count": 9,
   "id": "66f3eb0c-1bf1-4d7c-b659-fccbd4955c14",
   "metadata": {},
   "outputs": [
    {
     "name": "stdout",
     "output_type": "stream",
     "text": [
      "[<title>Alan Turing - Wikipedia</title>]\n",
      "<p><b>Alan Mathison Turing</b> <span class=\"noexcerpt nowraplinks\" style=\"font-size:85%; font-weight:normal;\"><a class=\"mw-redirect\" href=\"/wiki/Officer_of_the_Order_of_the_British_Empire\" title=\"Officer of the Order of the British Empire\">OBE</a> <a href=\"/wiki/Fellow_of_the_Royal_Society\" title=\"Fellow of the Royal Society\">FRS</a></span> (<span class=\"rt-commentedText nowrap\"><span class=\"IPA nopopups noexcerpt\" lang=\"en-fonipa\"><a href=\"/wiki/Help:IPA/English\" title=\"Help:IPA/English\">/<span style=\"border-bottom:1px dotted\"><span title=\"/ˈ/: primary stress follows\">ˈ</span><span title=\"/tj/: 't' in 'tune'\">tj</span><span title=\"/ʊər/: 'our' in 'tour'\">ʊər</span><span title=\"/ɪ/: 'i' in 'kit'\">ɪ</span><span title=\"/ŋ/: 'ng' in 'sing'\">ŋ</span></span>/</a></span></span>; 23 June 1912 – 7 June 1954) was an English <a href=\"/wiki/Mathematician\" title=\"Mathematician\">mathematician</a>, <a href=\"/wiki/Computer_scientist\" title=\"Computer scientist\">computer scientist</a>, <a href=\"/wiki/Logic\" title=\"Logic\">logician</a>, <a href=\"/wiki/Cryptanalysis\" title=\"Cryptanalysis\">cryptanalyst</a>, <a href=\"/wiki/Philosopher\" title=\"Philosopher\">philosopher</a>, and <a href=\"/wiki/Mathematical_and_theoretical_biology\" title=\"Mathematical and theoretical biology\">theoretical biologist</a>.<sup class=\"reference\" id=\"cite_ref-7\"><a href=\"#cite_note-7\">[6]</a></sup> Turing was highly influential in the development of <a href=\"/wiki/Theoretical_computer_science\" title=\"Theoretical computer science\">theoretical computer science</a>, providing a formalisation of the concepts of <a href=\"/wiki/Algorithm\" title=\"Algorithm\">algorithm</a> and <a href=\"/wiki/Computation\" title=\"Computation\">computation</a> with the <a href=\"/wiki/Turing_machine\" title=\"Turing machine\">Turing machine</a>, which can be considered a model of a <a class=\"mw-redirect\" href=\"/wiki/General-purpose_computer\" title=\"General-purpose computer\">general-purpose computer</a>.<sup class=\"reference\" id=\"cite_ref-frs_8-0\"><a href=\"#cite_note-frs-8\">[7]</a></sup><sup class=\"reference\" id=\"cite_ref-AFP_9-0\"><a href=\"#cite_note-AFP-9\">[8]</a></sup><sup class=\"reference\" id=\"cite_ref-10\"><a href=\"#cite_note-10\">[9]</a></sup> He is widely considered to be the father of theoretical computer science and <a href=\"/wiki/Artificial_intelligence\" title=\"Artificial intelligence\">artificial intelligence</a>.<sup class=\"reference\" id=\"cite_ref-11\"><a href=\"#cite_note-11\">[10]</a></sup>\n",
      "</p>\n"
     ]
    }
   ],
   "source": [
    "import bs4\n",
    "import requests\n",
    "\n",
    "#1\n",
    "r = requests.get('https://en.wikipedia.org/wiki/Alan_Turing')\n",
    "soup = bs4.BeautifulSoup(r.text, 'html.parser')\n",
    "print(soup.prettify())\n",
    "\n",
    "\n"
   ]
  },
  {
   "cell_type": "markdown",
   "id": "3a45ab52-3c30-490a-a9b2-7db7cff21eb2",
   "metadata": {},
   "source": [
    "## 2"
   ]
  },
  {
   "cell_type": "code",
   "execution_count": 19,
   "id": "80226ca4-67bb-4c04-a854-7c66c7c3f137",
   "metadata": {},
   "outputs": [
    {
     "name": "stdout",
     "output_type": "stream",
     "text": [
      "[<title>Alan Turing - Wikipedia</title>]\n"
     ]
    }
   ],
   "source": [
    "title = soup.select('Title')\n",
    "print(title)"
   ]
  },
  {
   "cell_type": "markdown",
   "id": "df04ea74-6286-42f8-bdb7-a0f1e3ebeb8c",
   "metadata": {},
   "source": [
    "## 3"
   ]
  },
  {
   "cell_type": "code",
   "execution_count": 20,
   "id": "916ca7c5-1fa3-475d-987d-a8b72653ffd1",
   "metadata": {},
   "outputs": [
    {
     "name": "stdout",
     "output_type": "stream",
     "text": [
      "Alan Mathison Turing OBE FRS (/ˈtjʊərɪŋ/; 23 June 1912 – 7 June 1954) was an English mathematician, computer scientist, logician, cryptanalyst, philosopher, and theoretical biologist.[6] Turing was highly influential in the development of theoretical computer science, providing a formalisation of the concepts of algorithm and computation with the Turing machine, which can be considered a model of a general-purpose computer.[7][8][9] He is widely considered to be the father of theoretical computer science and artificial intelligence.[10]\n",
      "\n"
     ]
    }
   ],
   "source": [
    "ptag = soup.select('p')\n",
    "print(ptag[1].text)"
   ]
  },
  {
   "cell_type": "markdown",
   "id": "f81b42c8-9ae4-484e-9176-d06f1f9c628e",
   "metadata": {},
   "source": [
    "## 4"
   ]
  },
  {
   "cell_type": "code",
   "execution_count": 33,
   "id": "16351656-55c4-4932-a050-3edf8a43238d",
   "metadata": {},
   "outputs": [
    {
     "name": "stdout",
     "output_type": "stream",
     "text": [
      "Contents\n",
      "\n",
      "1 Early life and education\n",
      "\n",
      "1.1 Family\n",
      "1.2 School\n",
      "1.3 Christopher Morcom\n",
      "1.4 University and work on computability\n",
      "\n",
      "\n",
      "2 Career and research\n",
      "\n",
      "2.1 Cryptanalysis\n",
      "2.2 Bombe\n",
      "2.3 Hut 8 and the naval Enigma\n",
      "2.4 Turingery\n",
      "2.5 Delilah\n",
      "2.6 Early computers and the Turing test\n",
      "2.7 Pattern formation and mathematical biology\n",
      "\n",
      "\n",
      "3 Personal life\n",
      "\n",
      "3.1 Engagement\n",
      "3.2 Homosexuality and indecency conviction\n",
      "3.3 Treasure\n",
      "3.4 Death\n",
      "3.5 Government apology and pardon\n",
      "\n",
      "\n",
      "4 Legacy\n",
      "\n",
      "4.1 Awards, honours, and tributes\n",
      "4.2 Centenary celebrations\n",
      "\n",
      "\n",
      "5 Notes and references\n",
      "\n",
      "5.1 Notes\n",
      "5.2 References\n",
      "5.3 Sources\n",
      "\n",
      "\n",
      "6 Further reading\n",
      "\n",
      "6.1 Articles\n",
      "6.2 Books\n",
      "\n",
      "\n",
      "7 External links\n",
      "\n",
      "\n"
     ]
    }
   ],
   "source": [
    "toc = soup.select('div[id=toc]')\n",
    "\n",
    "for t in toc:\n",
    "    print(t.getText())"
   ]
  },
  {
   "cell_type": "markdown",
   "id": "09e3a2a8-73e0-4341-99a4-9cb9b8006d44",
   "metadata": {},
   "source": [
    "## 5"
   ]
  },
  {
   "cell_type": "code",
   "execution_count": 45,
   "id": "e1a352fb-51e2-46e6-a870-c7b9eb53957d",
   "metadata": {},
   "outputs": [
    {
     "data": {
      "text/plain": [
       "{'first link': '#this_is_the_first_link',\n",
       " '1.1 Family': '#Family',\n",
       " '1.2 School': '#School',\n",
       " '1.3 Christopher Morcom': '#Christopher_Morcom',\n",
       " '1.4 University and work on computability': '#University_and_work_on_computability',\n",
       " '2.1 Cryptanalysis': '#Cryptanalysis',\n",
       " '2.2 Bombe': '#Bombe',\n",
       " '2.3 Hut 8 and the naval Enigma': '#Hut_8_and_the_naval_Enigma',\n",
       " '2.4 Turingery': '#Turingery',\n",
       " '2.5 Delilah': '#Delilah',\n",
       " '2.6 Early computers and the Turing test': '#Early_computers_and_the_Turing_test',\n",
       " '2.7 Pattern formation and mathematical biology': '#Pattern_formation_and_mathematical_biology',\n",
       " '3.1 Engagement': '#Engagement',\n",
       " '3.2 Homosexuality and indecency conviction': '#Homosexuality_and_indecency_conviction',\n",
       " '3.3 Treasure': '#Treasure',\n",
       " '3.4 Death': '#Death',\n",
       " '3.5 Government apology and pardon': '#Government_apology_and_pardon',\n",
       " '4.1 Awards, honours, and tributes': '#Awards,_honours,_and_tributes',\n",
       " '4.2 Centenary celebrations': '#Centenary_celebrations',\n",
       " '5.1 Notes': '#Notes',\n",
       " '5.2 References': '#References',\n",
       " '5.3 Sources': '#Sources',\n",
       " '6.1 Articles': '#Articles',\n",
       " '6.2 Books': '#Books'}"
      ]
     },
     "execution_count": 45,
     "metadata": {},
     "output_type": "execute_result"
    }
   ],
   "source": [
    "toc = soup.select('div[id=toc]>ul>li>ul>li>a')\n",
    "dict =  {'first link':'#this_is_the_first_link'}\n",
    "for t in toc:\n",
    "    dict[t.getText()] = t.get('href')\n",
    "dict"
   ]
  },
  {
   "cell_type": "markdown",
   "id": "6e18a93a-0529-4b21-9d95-ee58923aba76",
   "metadata": {},
   "source": [
    "## 6"
   ]
  },
  {
   "cell_type": "code",
   "execution_count": null,
   "id": "8b664bee-f70c-47fd-b5e4-a1196a91cb34",
   "metadata": {},
   "outputs": [],
   "source": []
  }
 ],
 "metadata": {
  "kernelspec": {
   "display_name": "Python 3 (ipykernel)",
   "language": "python",
   "name": "python3"
  },
  "language_info": {
   "codemirror_mode": {
    "name": "ipython",
    "version": 3
   },
   "file_extension": ".py",
   "mimetype": "text/x-python",
   "name": "python",
   "nbconvert_exporter": "python",
   "pygments_lexer": "ipython3",
   "version": "3.10.5"
  }
 },
 "nbformat": 4,
 "nbformat_minor": 5
}
