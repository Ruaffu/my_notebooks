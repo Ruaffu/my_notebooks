{
 "cells": [
  {
   "cell_type": "code",
   "execution_count": 27,
   "id": "ff1191e7-c284-4d4e-ad2a-9655a9dbbcf3",
   "metadata": {},
   "outputs": [
    {
     "name": "stdout",
     "output_type": "stream",
     "text": [
      "[[11 12 13 14 15]\n",
      " [16 17 18 19 20]\n",
      " [21 22 23 24 25]\n",
      " [26 27 28 29 30]\n",
      " [31 32 33 34 35]]\n",
      "red: [12 13 14] \n",
      "blue: [[12 14]\n",
      " [17 19]\n",
      " [22 24]\n",
      " [27 29]\n",
      " [32 34]] \n",
      "green:\n",
      " [13 18 23] \n",
      "purple: [15 25] \n",
      "yellow 11\n"
     ]
    }
   ],
   "source": [
    "import numpy as np\n",
    "a = np.arange(11, 36).reshape(5, 5)\n",
    "print(a)\n",
    "\n",
    "red    = a[0, 1:4]  # get one-dim. subarray of row 0, start:1 (pos=2) end:4 (not included, pos=4)\n",
    "blue   = a[:, 1::2]  # get one-dim. subarrays (index 1,2,3) of column 0\n",
    "green  = a[:3,2] # get a two-dim. subarray of every second element by row and column\n",
    "purple = a[0:3:2,4]    # get the second column\n",
    "yellow = a[0,0]\n",
    "\n",
    "print('red:',red,'\\nblue:',blue,'\\ngreen:\\n',green,'\\npurple:',purple, '\\nyellow',yellow)\n"
   ]
  },
  {
   "cell_type": "markdown",
   "id": "1e70b747-234a-452a-a7e8-627a5dd750a2",
   "metadata": {},
   "source": [
    "## Class exercise 2: cube\n",
    "1. Slice out [12 13 14] from the above cube using only one slice. e.g: a[:,:,:]\n",
    "2. Slice out [3 12 21].\n",
    "3. Slice out all y-values where x is 2 and z is 0."
   ]
  },
  {
   "cell_type": "code",
   "execution_count": 31,
   "id": "616df858-5b51-42e0-9ba8-faaf4315d633",
   "metadata": {},
   "outputs": [
    {
     "name": "stdout",
     "output_type": "stream",
     "text": [
      "[12 13 14]\n",
      "[ 3 12 21]\n",
      "[2 5 8]\n"
     ]
    }
   ],
   "source": [
    "a = np.arange(0, 27).reshape((3, 3, 3))# = (z, y, x)\n",
    "print(a[1,1,:])\n",
    "print(a[:,1,0])\n",
    "print(a[0,:,2])"
   ]
  },
  {
   "cell_type": "markdown",
   "id": "29bec639-2c7b-4bf5-bf11-c321bcf9ef05",
   "metadata": {},
   "source": [
    "### Class exercise: masking\n",
    "- For the dataset: `data = np.arange(1,101).reshape(10,10)`\n",
    "  - apply a mask that will return only the even numbers\n",
    "  - using `np.where()` return only numbers that ends with 6\n"
   ]
  },
  {
   "cell_type": "code",
   "execution_count": 38,
   "id": "59719f96-9022-4a1d-95e5-27817ea4a807",
   "metadata": {},
   "outputs": [
    {
     "name": "stdout",
     "output_type": "stream",
     "text": [
      "a [  2   4   6   8  10  12  14  16  18  20  22  24  26  28  30  32  34  36\n",
      "  38  40  42  44  46  48  50  52  54  56  58  60  62  64  66  68  70  72\n",
      "  74  76  78  80  82  84  86  88  90  92  94  96  98 100]\n",
      "b [[None None 3 None None 6 None None 9 None]\n",
      " [None 12 None None 15 None None 18 None None]\n",
      " [21 None None 24 None None 27 None None 30]\n",
      " [None None 33 None None 36 None None 39 None]\n",
      " [None 42 None None 45 None None 48 None None]\n",
      " [51 None None 54 None None 57 None None 60]\n",
      " [None None 63 None None 66 None None 69 None]\n",
      " [None 72 None None 75 None None 78 None None]\n",
      " [81 None None 84 None None 87 None None 90]\n",
      " [None None 93 None None 96 None None 99 None]]\n"
     ]
    }
   ],
   "source": [
    "data = np.arange(1,101).reshape(10,10)\n",
    "a = data[data%2 ==0]\n",
    "#b =  np.where( , data, None)\n",
    "print('a',a)\n",
    "print('b',b)"
   ]
  },
  {
   "cell_type": "markdown",
   "id": "1a52ab01-3097-458e-b037-9362427e8695",
   "metadata": {},
   "source": [
    "## Exercise numpy and csv\n",
    "\n",
    "1. load the csv file: befkbhalderstatkode.csv into a numpy ndarray\n",
    "2. How many german children of 0 years were there in Copenhagen in 2015?\n",
    "3. create a function that can take any combination of the 4 parameters:AAR,BYDEL,ALDER,STATKODE and return population data\n",
    "4. create a new function like previous so that it can sum values for all ages if age is not provided to the function\n",
    "5. further add functionality to sum values if citizenship or area was not provided to function.\n",
    "6. create a new function that can also give average values for each year if year whas not provided.\n",
    "7. create a function, that given year and nationality can return which area had the most of these nationals by that year. Test it by finding out which area had the most Moroccan people in both 1992 and 2015\n",
    "8. Find the Area(s) where fewest foreingers lived in Copenhagen in 1992 and 2015 respectively\n",
    "9. Find out what age most French people have in 2015"
   ]
  },
  {
   "cell_type": "code",
   "execution_count": null,
   "id": "394de577-cfaf-49f2-b5df-05354f73b813",
   "metadata": {},
   "outputs": [],
   "source": [
    "filename = './data/befkbhalderstatkode.csv'"
   ]
  }
 ],
 "metadata": {
  "kernelspec": {
   "display_name": "Python 3 (ipykernel)",
   "language": "python",
   "name": "python3"
  },
  "language_info": {
   "codemirror_mode": {
    "name": "ipython",
    "version": 3
   },
   "file_extension": ".py",
   "mimetype": "text/x-python",
   "name": "python",
   "nbconvert_exporter": "python",
   "pygments_lexer": "ipython3",
   "version": "3.10.5"
  }
 },
 "nbformat": 4,
 "nbformat_minor": 5
}
