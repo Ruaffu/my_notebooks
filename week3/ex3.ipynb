{
 "cells": [
  {
   "cell_type": "code",
   "execution_count": 2,
   "id": "5c4db647-101a-4946-896a-61e06ca49639",
   "metadata": {},
   "outputs": [
    {
     "name": "stdout",
     "output_type": "stream",
     "text": [
      "john :  male\n",
      "number of courses:  1\n",
      "john :  male\n",
      "number of courses:  1\n",
      "hans :  female\n",
      "number of courses:  2\n",
      "john :  male\n",
      "number of courses:  2\n",
      "bob :  male\n",
      "number of courses:  2\n"
     ]
    }
   ],
   "source": [
    "from student_generator import generate_students\n",
    "\n",
    "students = generate_students(5)\n",
    "for student in students:\n",
    "    print(student.name, \": \", student.gender)\n",
    "    print(\"number of courses: \", len(student.data_sheet.courses))"
   ]
  },
  {
   "cell_type": "code",
   "execution_count": 2,
   "id": "a0243499-6c74-416e-b9c9-368e6d2d4b26",
   "metadata": {},
   "outputs": [
    {
     "data": {
      "text/plain": [
       "'/home/jovyan/my_notebooks'"
      ]
     },
     "execution_count": 2,
     "metadata": {},
     "output_type": "execute_result"
    }
   ],
   "source": [
    "import os\n",
    "os.getcwd() "
   ]
  },
  {
   "cell_type": "code",
   "execution_count": null,
   "id": "3254cba7-edc6-4205-b725-51c19b1a0c11",
   "metadata": {},
   "outputs": [],
   "source": []
  }
 ],
 "metadata": {
  "kernelspec": {
   "display_name": "Python 3 (ipykernel)",
   "language": "python",
   "name": "python3"
  },
  "language_info": {
   "codemirror_mode": {
    "name": "ipython",
    "version": 3
   },
   "file_extension": ".py",
   "mimetype": "text/x-python",
   "name": "python",
   "nbconvert_exporter": "python",
   "pygments_lexer": "ipython3",
   "version": "3.10.6"
  }
 },
 "nbformat": 4,
 "nbformat_minor": 5
}