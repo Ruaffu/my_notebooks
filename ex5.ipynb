{
 "cells": [
  {
   "cell_type": "markdown",
   "id": "2e30cc4c-9e71-4a75-ba03-09dabdc95c0d",
   "metadata": {},
   "source": [
    "# Exercise 5"
   ]
  },
  {
   "cell_type": "markdown",
   "id": "1df6e655-fe54-4c70-a517-9196a6f930cb",
   "metadata": {},
   "source": [
    " 1. What is the change in pct of divorced danes from 2008 to 2020?\n",
    " "
   ]
  },
  {
   "cell_type": "code",
   "execution_count": 3,
   "id": "aa727a6a-a993-4f96-a995-cee8e39d3ebb",
   "metadata": {},
   "outputs": [
    {
     "name": "stdout",
     "output_type": "stream",
     "text": [
      "        OMRÅDE     TID CIVILSTAND  INDHOLD\n",
      "0  Hele landet  2008K1   Fraskilt   428864\n",
      "1  Hele landet  2008K1      I alt  5475791\n",
      "2  Hele landet  2020K4   Fraskilt   552419\n",
      "3  Hele landet  2020K4      I alt  5837213\n",
      "Change in percentage of divorced danes from 2008:( 7.832000892656421 %) to 2020( 9.463745797866208 %) \n",
      "is: 1.6317449052097874 %\n"
     ]
    }
   ],
   "source": [
    "import pandas as pd\n",
    "#5a\n",
    "data = pd.read_csv(\"https://api.statbank.dk/v1/data/FOLK1A/CSV?delimiter=Semicolon&OMR%C3%85DE=000&Tid=2008K1%2C2020K4&CIVILSTAND=F%2CTOT\", sep=\";\")\n",
    "print(data)\n",
    "\n",
    "pct_2008 = (data[\"INDHOLD\"][0] / data[\"INDHOLD\"][1]) * 100\n",
    "pct_2020 = (data[\"INDHOLD\"][2] / data[\"INDHOLD\"][3]) * 100\n",
    "print(\"Change in percentage of divorced danes from 2008:(\",pct_2008,\"%)\",\"to 2020(\",pct_2020,\"%)\",\"\\nis:\", pct_2020 - pct_2008,\"%\")"
   ]
  },
  {
   "cell_type": "markdown",
   "id": "77d745c5-e08f-46e3-902b-2181a1b7d625",
   "metadata": {},
   "source": [
    " 2. Which of the 5 biggest cities has the highest percentage of 'Never Married' in 2020?\n",
    " \n",
    "  "
   ]
  },
  {
   "cell_type": "code",
   "execution_count": 4,
   "id": "ec363441-ae5f-4719-8f1d-5e2614156032",
   "metadata": {},
   "outputs": [
    {
     "name": "stdout",
     "output_type": "stream",
     "text": [
      "    CIVILSTAND              OMRÅDE     TID  INDHOLD\n",
      "0        Ugift         Hele landet  2020K4  2859116\n",
      "1        Ugift  Region Hovedstaden  2020K4   981652\n",
      "2        Ugift           København  2020K4   417782\n",
      "3        Ugift       Frederiksberg  2020K4    61020\n",
      "4        Ugift              Dragør  2020K4     5856\n",
      "..         ...                 ...     ...      ...\n",
      "205      I alt               Morsø  2020K4    20135\n",
      "206      I alt              Rebild  2020K4    30438\n",
      "207      I alt             Thisted  2020K4    43217\n",
      "208      I alt     Vesthimmerlands  2020K4    36458\n",
      "209      I alt             Aalborg  2020K4   219310\n",
      "\n",
      "[210 rows x 4 columns]\n",
      "['København', 'Aarhus', 'Aalborg', 'Odense', 'Vejle']\n",
      "København has the highest percentage of never married at 65.4896415941411 %\n",
      " of the 5 biggest cities\n"
     ]
    },
    {
     "name": "stderr",
     "output_type": "stream",
     "text": [
      "/tmp/ipykernel_472/4172414816.py:6: UserWarning: Boolean Series key will be reindexed to match DataFrame index.\n",
      "  totals = regions[data[\"CIVILSTAND\"] == \"I alt\"]\n"
     ]
    }
   ],
   "source": [
    "#5b\n",
    "data = pd.read_csv(\"https://api.statbank.dk/v1/data/FOLK1A/CSV?delimiter=Semicolon&CIVILSTAND=U%2CTOT&OMR%C3%85DE=*&Tid=2020K4\", sep=\";\")\n",
    "print(data)\n",
    "data = data.sort_values(by=[\"INDHOLD\"], ascending=False)\n",
    "regions = data[(data[\"OMRÅDE\"] != \"Hele landet\") & (~data[\"OMRÅDE\"].str.contains(\"Region\"))]\n",
    "totals = regions[data[\"CIVILSTAND\"] == \"I alt\"]\n",
    "biggest_cities = []\n",
    "\n",
    "for city in totals[\"OMRÅDE\"]:\n",
    "    if (city not in biggest_cities) & (len(biggest_cities) < 5):\n",
    "        biggest_cities.append(city)\n",
    "        \n",
    "print(biggest_cities)\n",
    "current = {\"pct\": 0, \"city\": \"\"}\n",
    "\n",
    "for city in biggest_cities:\n",
    "    population = regions[regions[\"OMRÅDE\"] == city]\n",
    "    unmarried = population.index[1]\n",
    "    total = population.index[0]\n",
    "    pct_unmarried = (population[\"INDHOLD\"][unmarried] / population[\"INDHOLD\"][total])*100\n",
    "    if current[\"pct\"] < pct_unmarried:\n",
    "        current[\"city\"] = city\n",
    "        current[\"pct\"] = pct_unmarried\n",
    "    else:\n",
    "        continue\n",
    "        \n",
    "print(current[\"city\"], \"has the highest percentage of never married at\",current[\"pct\"],\"%\\n\",\"of the 5 biggest cities\")\n",
    "\n",
    "\n"
   ]
  },
  {
   "cell_type": "markdown",
   "id": "8c8d34bb-b61b-40c2-90b8-b90e18dc00e5",
   "metadata": {},
   "source": [
    " 3. Show a bar chart of changes in marrital status in Copenhagen from 2008 till now\n"
   ]
  },
  {
   "cell_type": "code",
   "execution_count": 33,
   "id": "3901d8cd-599d-4034-aedc-45f24efb667a",
   "metadata": {},
   "outputs": [
    {
     "name": "stdout",
     "output_type": "stream",
     "text": [
      "    CIVILSTAND     OMRÅDE     TID  INDHOLD\n",
      "0        Ugift  København  2008K1   309661\n",
      "1        Ugift  København  2008K2   311978\n",
      "2        Ugift  København  2008K3   311868\n",
      "3        Ugift  København  2008K4   315545\n",
      "4        Ugift  København  2009K1   317126\n",
      "..         ...        ...     ...      ...\n",
      "235   Fraskilt  København  2021K4    55305\n",
      "236   Fraskilt  København  2022K1    55415\n",
      "237   Fraskilt  København  2022K2    55496\n",
      "238   Fraskilt  København  2022K3    55348\n",
      "239   Fraskilt  København  2022K4    55040\n",
      "\n",
      "[240 rows x 4 columns]\n"
     ]
    }
   ],
   "source": [
    "#5c\n",
    "import matplotlib.pyplot as plt\n",
    "data = pd.read_csv(\"https://api.statbank.dk/v1/data/FOLK1A/CSV?delimiter=Semicolon&CIVILSTAND=U%2CG%2CE%2CF&OMR%C3%85DE=101&Tid=*\", sep=\";\")\n",
    "print(data)\n"
   ]
  },
  {
   "cell_type": "code",
   "execution_count": 47,
   "id": "1254298c-e49c-44df-a27e-00969e5944a5",
   "metadata": {},
   "outputs": [
    {
     "name": "stdout",
     "output_type": "stream",
     "text": [
      "{'2008K4': 130727, '2009K4': 133014, '2010K4': 135341, '2011K4': 136965, '2012K4': 137880, '2013K4': 139664, '2014K4': 139729, '2015K4': 141141, '2016K4': 143024, '2017K4': 145607, '2018K4': 148172, '2019K4': 150492, '2020K4': 150663, '2021K4': 150219, '2022K4': 152604}\n"
     ]
    }
   ],
   "source": [
    "#5d\n",
    "pop_status = {}\n",
    "time_q4 = []\n",
    "\n",
    "for time_period in list(data['TID'].unique()):\n",
    "     if(time_period.split('K')[1] == '4'):\n",
    "        time_q4.append(time_period)\n",
    "\n",
    "for time in time_q4:\n",
    "   \n",
    "    year = data['TID'] == time\n",
    "    Marital_status = data['CIVILSTAND'] == 'Gift/separeret'\n",
    "    area = data['OMRÅDE'] == \"København\"\n",
    "    status = sum(data[year & Marital_status & area]['INDHOLD'])\n",
    "    pop_status[time]=status\n",
    "    \n",
    "print(pop_status)"
   ]
  },
  {
   "cell_type": "code",
   "execution_count": 48,
   "id": "bffe08c5-c154-4713-b05e-88b17ac3cfe2",
   "metadata": {},
   "outputs": [
    {
     "data": {
      "image/png": "[encoded data removed]",
      "text/plain": [
       "<Figure size 640x480 with 1 Axes>"
      ]
     },
     "metadata": {},
     "output_type": "display_data"
    }
   ],
   "source": [
    "import matplotlib.pyplot as plt\n",
    "plt.bar(list(pop_status.keys()), list(pop_status.values()), width=0.6, align='center')\n",
    "plt.xticks(rotation=45, horizontalalignment='right', fontweight='light')\n",
    "plt.show()"
   ]
  },
  {
   "cell_type": "markdown",
   "id": "023c4df5-0ca1-4ad7-b7e4-1f70d7c4d34b",
   "metadata": {},
   "source": [
    "  4. Show 2 plots in same figure: 'Married' and 'Never Married' for all ages in DK in 2020 (Hint: x axis is age from 0-125, y axis is how many people in the 2 categories). Add lengend to show names on graphs"
   ]
  },
  {
   "cell_type": "code",
   "execution_count": 50,
   "id": "87d7ff41-c095-448d-b3d9-30b76764c810",
   "metadata": {},
   "outputs": [
    {
     "data": {
      "text/html": [
       "<div>\n",
       "<style scoped>\n",
       "    .dataframe tbody tr th:only-of-type {\n",
       "        vertical-align: middle;\n",
       "    }\n",
       "\n",
       "    .dataframe tbody tr th {\n",
       "        vertical-align: top;\n",
       "    }\n",
       "\n",
       "    .dataframe thead th {\n",
       "        text-align: right;\n",
       "    }\n",
       "</style>\n",
       "<table border=\"1\" class=\"dataframe\">\n",
       "  <thead>\n",
       "    <tr style=\"text-align: right;\">\n",
       "      <th></th>\n",
       "      <th>ALDER</th>\n",
       "      <th>CIVILSTAND</th>\n",
       "      <th>TID</th>\n",
       "      <th>INDHOLD</th>\n",
       "    </tr>\n",
       "  </thead>\n",
       "  <tbody>\n",
       "    <tr>\n",
       "      <th>0</th>\n",
       "      <td>I alt</td>\n",
       "      <td>Ugift</td>\n",
       "      <td>2020K4</td>\n",
       "      <td>2859116</td>\n",
       "    </tr>\n",
       "    <tr>\n",
       "      <th>1</th>\n",
       "      <td>I alt</td>\n",
       "      <td>Gift/separeret</td>\n",
       "      <td>2020K4</td>\n",
       "      <td>2138124</td>\n",
       "    </tr>\n",
       "    <tr>\n",
       "      <th>2</th>\n",
       "      <td>0 år</td>\n",
       "      <td>Ugift</td>\n",
       "      <td>2020K4</td>\n",
       "      <td>61381</td>\n",
       "    </tr>\n",
       "    <tr>\n",
       "      <th>3</th>\n",
       "      <td>0 år</td>\n",
       "      <td>Gift/separeret</td>\n",
       "      <td>2020K4</td>\n",
       "      <td>0</td>\n",
       "    </tr>\n",
       "    <tr>\n",
       "      <th>4</th>\n",
       "      <td>1 år</td>\n",
       "      <td>Ugift</td>\n",
       "      <td>2020K4</td>\n",
       "      <td>61650</td>\n",
       "    </tr>\n",
       "    <tr>\n",
       "      <th>...</th>\n",
       "      <td>...</td>\n",
       "      <td>...</td>\n",
       "      <td>...</td>\n",
       "      <td>...</td>\n",
       "    </tr>\n",
       "    <tr>\n",
       "      <th>249</th>\n",
       "      <td>123 år</td>\n",
       "      <td>Gift/separeret</td>\n",
       "      <td>2020K4</td>\n",
       "      <td>0</td>\n",
       "    </tr>\n",
       "    <tr>\n",
       "      <th>250</th>\n",
       "      <td>124 år</td>\n",
       "      <td>Ugift</td>\n",
       "      <td>2020K4</td>\n",
       "      <td>0</td>\n",
       "    </tr>\n",
       "    <tr>\n",
       "      <th>251</th>\n",
       "      <td>124 år</td>\n",
       "      <td>Gift/separeret</td>\n",
       "      <td>2020K4</td>\n",
       "      <td>0</td>\n",
       "    </tr>\n",
       "    <tr>\n",
       "      <th>252</th>\n",
       "      <td>125 år</td>\n",
       "      <td>Ugift</td>\n",
       "      <td>2020K4</td>\n",
       "      <td>0</td>\n",
       "    </tr>\n",
       "    <tr>\n",
       "      <th>253</th>\n",
       "      <td>125 år</td>\n",
       "      <td>Gift/separeret</td>\n",
       "      <td>2020K4</td>\n",
       "      <td>0</td>\n",
       "    </tr>\n",
       "  </tbody>\n",
       "</table>\n",
       "<p>254 rows × 4 columns</p>\n",
       "</div>"
      ],
      "text/plain": [
       "      ALDER      CIVILSTAND     TID  INDHOLD\n",
       "0     I alt           Ugift  2020K4  2859116\n",
       "1     I alt  Gift/separeret  2020K4  2138124\n",
       "2      0 år           Ugift  2020K4    61381\n",
       "3      0 år  Gift/separeret  2020K4        0\n",
       "4      1 år           Ugift  2020K4    61650\n",
       "..      ...             ...     ...      ...\n",
       "249  123 år  Gift/separeret  2020K4        0\n",
       "250  124 år           Ugift  2020K4        0\n",
       "251  124 år  Gift/separeret  2020K4        0\n",
       "252  125 år           Ugift  2020K4        0\n",
       "253  125 år  Gift/separeret  2020K4        0\n",
       "\n",
       "[254 rows x 4 columns]"
      ]
     },
     "execution_count": 50,
     "metadata": {},
     "output_type": "execute_result"
    }
   ],
   "source": [
    "data = pd.read_csv(\"https://api.statbank.dk/v1/data/FOLK1A/CSV?delimiter=Semicolon&ALDER=*&CIVILSTAND=U%2CG&Tid=2020K4\", sep=\";\")\n",
    "data"
   ]
  },
  {
   "cell_type": "code",
   "execution_count": 51,
   "id": "50b13e22-52c2-47f5-bd4d-36032daa6395",
   "metadata": {},
   "outputs": [
    {
     "data": {
      "text/html": [
       "<div>\n",
       "<style scoped>\n",
       "    .dataframe tbody tr th:only-of-type {\n",
       "        vertical-align: middle;\n",
       "    }\n",
       "\n",
       "    .dataframe tbody tr th {\n",
       "        vertical-align: top;\n",
       "    }\n",
       "\n",
       "    .dataframe thead th {\n",
       "        text-align: right;\n",
       "    }\n",
       "</style>\n",
       "<table border=\"1\" class=\"dataframe\">\n",
       "  <thead>\n",
       "    <tr style=\"text-align: right;\">\n",
       "      <th></th>\n",
       "      <th>ALDER</th>\n",
       "      <th>CIVILSTAND</th>\n",
       "      <th>TID</th>\n",
       "      <th>INDHOLD</th>\n",
       "    </tr>\n",
       "  </thead>\n",
       "  <tbody>\n",
       "    <tr>\n",
       "      <th>2</th>\n",
       "      <td>0 år</td>\n",
       "      <td>Ugift</td>\n",
       "      <td>2020K4</td>\n",
       "      <td>61381</td>\n",
       "    </tr>\n",
       "    <tr>\n",
       "      <th>3</th>\n",
       "      <td>0 år</td>\n",
       "      <td>Gift/separeret</td>\n",
       "      <td>2020K4</td>\n",
       "      <td>0</td>\n",
       "    </tr>\n",
       "    <tr>\n",
       "      <th>4</th>\n",
       "      <td>1 år</td>\n",
       "      <td>Ugift</td>\n",
       "      <td>2020K4</td>\n",
       "      <td>61650</td>\n",
       "    </tr>\n",
       "    <tr>\n",
       "      <th>5</th>\n",
       "      <td>1 år</td>\n",
       "      <td>Gift/separeret</td>\n",
       "      <td>2020K4</td>\n",
       "      <td>0</td>\n",
       "    </tr>\n",
       "    <tr>\n",
       "      <th>6</th>\n",
       "      <td>2 år</td>\n",
       "      <td>Ugift</td>\n",
       "      <td>2020K4</td>\n",
       "      <td>62532</td>\n",
       "    </tr>\n",
       "    <tr>\n",
       "      <th>...</th>\n",
       "      <td>...</td>\n",
       "      <td>...</td>\n",
       "      <td>...</td>\n",
       "      <td>...</td>\n",
       "    </tr>\n",
       "    <tr>\n",
       "      <th>249</th>\n",
       "      <td>123 år</td>\n",
       "      <td>Gift/separeret</td>\n",
       "      <td>2020K4</td>\n",
       "      <td>0</td>\n",
       "    </tr>\n",
       "    <tr>\n",
       "      <th>250</th>\n",
       "      <td>124 år</td>\n",
       "      <td>Ugift</td>\n",
       "      <td>2020K4</td>\n",
       "      <td>0</td>\n",
       "    </tr>\n",
       "    <tr>\n",
       "      <th>251</th>\n",
       "      <td>124 år</td>\n",
       "      <td>Gift/separeret</td>\n",
       "      <td>2020K4</td>\n",
       "      <td>0</td>\n",
       "    </tr>\n",
       "    <tr>\n",
       "      <th>252</th>\n",
       "      <td>125 år</td>\n",
       "      <td>Ugift</td>\n",
       "      <td>2020K4</td>\n",
       "      <td>0</td>\n",
       "    </tr>\n",
       "    <tr>\n",
       "      <th>253</th>\n",
       "      <td>125 år</td>\n",
       "      <td>Gift/separeret</td>\n",
       "      <td>2020K4</td>\n",
       "      <td>0</td>\n",
       "    </tr>\n",
       "  </tbody>\n",
       "</table>\n",
       "<p>252 rows × 4 columns</p>\n",
       "</div>"
      ],
      "text/plain": [
       "      ALDER      CIVILSTAND     TID  INDHOLD\n",
       "2      0 år           Ugift  2020K4    61381\n",
       "3      0 år  Gift/separeret  2020K4        0\n",
       "4      1 år           Ugift  2020K4    61650\n",
       "5      1 år  Gift/separeret  2020K4        0\n",
       "6      2 år           Ugift  2020K4    62532\n",
       "..      ...             ...     ...      ...\n",
       "249  123 år  Gift/separeret  2020K4        0\n",
       "250  124 år           Ugift  2020K4        0\n",
       "251  124 år  Gift/separeret  2020K4        0\n",
       "252  125 år           Ugift  2020K4        0\n",
       "253  125 år  Gift/separeret  2020K4        0\n",
       "\n",
       "[252 rows x 4 columns]"
      ]
     },
     "execution_count": 51,
     "metadata": {},
     "output_type": "execute_result"
    }
   ],
   "source": [
    "data = data[data['ALDER'] != 'I alt']\n",
    "data"
   ]
  },
  {
   "cell_type": "code",
   "execution_count": 53,
   "id": "89f776de-3e0a-4c7e-9a14-c0bdf0ed3336",
   "metadata": {},
   "outputs": [
    {
     "data": {
      "text/plain": [
       "['0 år',\n",
       " '1 år',\n",
       " '2 år',\n",
       " '3 år',\n",
       " '4 år',\n",
       " '5 år',\n",
       " '6 år',\n",
       " '7 år',\n",
       " '8 år',\n",
       " '9 år',\n",
       " '10 år',\n",
       " '11 år',\n",
       " '12 år',\n",
       " '13 år',\n",
       " '14 år',\n",
       " '15 år',\n",
       " '16 år',\n",
       " '17 år',\n",
       " '18 år',\n",
       " '19 år',\n",
       " '20 år',\n",
       " '21 år',\n",
       " '22 år',\n",
       " '23 år',\n",
       " '24 år',\n",
       " '25 år',\n",
       " '26 år',\n",
       " '27 år',\n",
       " '28 år',\n",
       " '29 år',\n",
       " '30 år',\n",
       " '31 år',\n",
       " '32 år',\n",
       " '33 år',\n",
       " '34 år',\n",
       " '35 år',\n",
       " '36 år',\n",
       " '37 år',\n",
       " '38 år',\n",
       " '39 år',\n",
       " '40 år',\n",
       " '41 år',\n",
       " '42 år',\n",
       " '43 år',\n",
       " '44 år',\n",
       " '45 år',\n",
       " '46 år',\n",
       " '47 år',\n",
       " '48 år',\n",
       " '49 år',\n",
       " '50 år',\n",
       " '51 år',\n",
       " '52 år',\n",
       " '53 år',\n",
       " '54 år',\n",
       " '55 år',\n",
       " '56 år',\n",
       " '57 år',\n",
       " '58 år',\n",
       " '59 år',\n",
       " '60 år',\n",
       " '61 år',\n",
       " '62 år',\n",
       " '63 år',\n",
       " '64 år',\n",
       " '65 år',\n",
       " '66 år',\n",
       " '67 år',\n",
       " '68 år',\n",
       " '69 år',\n",
       " '70 år',\n",
       " '71 år',\n",
       " '72 år',\n",
       " '73 år',\n",
       " '74 år',\n",
       " '75 år',\n",
       " '76 år',\n",
       " '77 år',\n",
       " '78 år',\n",
       " '79 år',\n",
       " '80 år',\n",
       " '81 år',\n",
       " '82 år',\n",
       " '83 år',\n",
       " '84 år',\n",
       " '85 år',\n",
       " '86 år',\n",
       " '87 år',\n",
       " '88 år',\n",
       " '89 år',\n",
       " '90 år',\n",
       " '91 år',\n",
       " '92 år',\n",
       " '93 år',\n",
       " '94 år',\n",
       " '95 år',\n",
       " '96 år',\n",
       " '97 år',\n",
       " '98 år',\n",
       " '99 år',\n",
       " '100 år',\n",
       " '101 år',\n",
       " '102 år',\n",
       " '103 år',\n",
       " '104 år',\n",
       " '105 år',\n",
       " '106 år',\n",
       " '107 år',\n",
       " '108 år',\n",
       " '109 år',\n",
       " '110 år',\n",
       " '111 år',\n",
       " '112 år',\n",
       " '113 år',\n",
       " '114 år',\n",
       " '115 år',\n",
       " '116 år',\n",
       " '117 år',\n",
       " '118 år',\n",
       " '119 år',\n",
       " '120 år',\n",
       " '121 år',\n",
       " '122 år',\n",
       " '123 år',\n",
       " '124 år',\n",
       " '125 år']"
      ]
     },
     "execution_count": 53,
     "metadata": {},
     "output_type": "execute_result"
    }
   ],
   "source": [
    "ages = list(data['ALDER'].unique())\n",
    "ages"
   ]
  },
  {
   "cell_type": "code",
   "execution_count": 59,
   "id": "9541fd47-63a7-40f6-9c9c-626d6c8d1cf2",
   "metadata": {},
   "outputs": [],
   "source": [
    "married = []\n",
    "unmarried = []\n",
    "for age in ages:\n",
    "    mask = data['ALDER'] ==  age\n",
    "    m_status1 = data['CIVILSTAND'] == 'Gift/separeret'\n",
    "    m_status2 = data['CIVILSTAND'] == 'Ugift'\n",
    "    married.append(sum(data[ m_status1 & mask]['INDHOLD']))\n",
    "    unmarried.append(sum(data[ m_status2 & mask]['INDHOLD']))\n",
    "\n"
   ]
  },
  {
   "cell_type": "code",
   "execution_count": 62,
   "id": "5fcf2488-29de-46c1-bdbb-3ee6b8b803a6",
   "metadata": {},
   "outputs": [
    {
     "data": {
      "text/plain": [
       "<matplotlib.legend.Legend at 0x7f5a3d746290>"
      ]
     },
     "execution_count": 62,
     "metadata": {},
     "output_type": "execute_result"
    },
    {
     "data": {
      "image/png": "[encoded data removed]",
      "text/plain": [
       "<Figure size 640x480 with 1 Axes>"
      ]
     },
     "metadata": {},
     "output_type": "display_data"
    }
   ],
   "source": [
    "plt.plot(ages,married, label='Married')\n",
    "plt.plot(ages,unmarried, label='Unmarried')\n",
    "plt.xticks(ages[::15])\n",
    "plt.legend()"
   ]
  },
  {
   "cell_type": "code",
   "execution_count": null,
   "id": "fee9a8a0-1ebf-40b2-a49d-246c1e3aa9b0",
   "metadata": {},
   "outputs": [],
   "source": []
  }
 ],
 "metadata": {
  "kernelspec": {
   "display_name": "Python 3 (ipykernel)",
   "language": "python",
   "name": "python3"
  },
  "language_info": {
   "codemirror_mode": {
    "name": "ipython",
    "version": 3
   },
   "file_extension": ".py",
   "mimetype": "text/x-python",
   "name": "python",
   "nbconvert_exporter": "python",
   "pygments_lexer": "ipython3",
   "version": "3.10.6"
  }
 },
 "nbformat": 4,
 "nbformat_minor": 5
}
