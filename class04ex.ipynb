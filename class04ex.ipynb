{
 "cells": [
  {
   "cell_type": "code",
   "execution_count": 2,
   "id": "ff1191e7-c284-4d4e-ad2a-9655a9dbbcf3",
   "metadata": {},
   "outputs": [
    {
     "name": "stdout",
     "output_type": "stream",
     "text": [
      "[[11 12 13 14 15]\n",
      " [16 17 18 19 20]\n",
      " [21 22 23 24 25]\n",
      " [26 27 28 29 30]\n",
      " [31 32 33 34 35]] \n",
      "\n",
      "red: [12 13 14] \n",
      "blue: [[12 14]\n",
      " [17 19]\n",
      " [22 24]\n",
      " [27 29]\n",
      " [32 34]] \n",
      "green:\n",
      " [13 18 23] \n",
      "purple: [15 25] \n",
      "yellow 11\n"
     ]
    }
   ],
   "source": [
    "import numpy as np\n",
    "a = np.arange(11, 36).reshape(5, 5)\n",
    "print(a,'\\n')\n",
    "\n",
    "red    = a[0, 1:4] \n",
    "blue   = a[:, 1::2]  \n",
    "green  = a[:3,2] \n",
    "purple = a[0:3:2,4]   \n",
    "yellow = a[0,0]\n",
    "\n",
    "print('red:',red,'\\nblue:',blue,'\\ngreen:\\n',green,'\\npurple:',purple, '\\nyellow',yellow)\n"
   ]
  },
  {
   "cell_type": "markdown",
   "id": "1e70b747-234a-452a-a7e8-627a5dd750a2",
   "metadata": {},
   "source": [
    "## Class exercise 2: cube\n",
    "1. Slice out [12 13 14] from the above cube using only one slice. e.g: a[:,:,:]\n",
    "2. Slice out [3 12 21].\n",
    "3. Slice out all y-values where x is 2 and z is 0."
   ]
  },
  {
   "cell_type": "code",
   "execution_count": 3,
   "id": "616df858-5b51-42e0-9ba8-faaf4315d633",
   "metadata": {},
   "outputs": [
    {
     "name": "stdout",
     "output_type": "stream",
     "text": [
      "[12 13 14]\n",
      "[ 3 12 21]\n",
      "[2 5 8]\n"
     ]
    }
   ],
   "source": [
    "a = np.arange(0, 27).reshape((3, 3, 3))# = (z, y, x)\n",
    "print(a[1,1,:])\n",
    "print(a[:,1,0])\n",
    "print(a[0,:,2])"
   ]
  },
  {
   "cell_type": "markdown",
   "id": "29bec639-2c7b-4bf5-bf11-c321bcf9ef05",
   "metadata": {},
   "source": [
    "### Class exercise: masking\n",
    "- For the dataset: `data = np.arange(1,101).reshape(10,10)`\n",
    "  - apply a mask that will return only the even numbers\n",
    "  - using `np.where()` return only numbers that ends with 6\n"
   ]
  },
  {
   "cell_type": "code",
   "execution_count": 4,
   "id": "59719f96-9022-4a1d-95e5-27817ea4a807",
   "metadata": {},
   "outputs": [
    {
     "name": "stdout",
     "output_type": "stream",
     "text": [
      "Even numbers:  [  2   4   6   8  10  12  14  16  18  20  22  24  26  28  30  32  34  36\n",
      "  38  40  42  44  46  48  50  52  54  56  58  60  62  64  66  68  70  72\n",
      "  74  76  78  80  82  84  86  88  90  92  94  96  98 100]\n",
      "Numbers that end with 6:  [ 6 16 26 36 46 56 66 76 86 96]\n"
     ]
    }
   ],
   "source": [
    "data = np.arange(1,101).reshape(10,10)\n",
    "a = data[data%2 ==0]\n",
    "b =  np.where(data % 10 ==6)\n",
    "print('Even numbers: ',a)\n",
    "print('Numbers that end with 6: ',data[b])"
   ]
  },
  {
   "cell_type": "markdown",
   "id": "1a52ab01-3097-458e-b037-9362427e8695",
   "metadata": {},
   "source": [
    "## Exercise numpy and csv\n",
    "\n",
    "1. load the csv file: befkbhalderstatkode.csv into a numpy ndarray\n",
    "2. How many german children of 0 years were there in Copenhagen in 2015?\n",
    "3. create a function that can take any combination of the 4 parameters:AAR,BYDEL,ALDER,STATKODE and return population data\n",
    "4. create a new function like previous so that it can sum values for all ages if age is not provided to the function\n",
    "5. further add functionality to sum values if citizenship or area was not provided to function.\n",
    "6. create a new function that can also give average values for each year if year whas not provided.\n",
    "7. create a function, that given year and nationality can return which area had the most of these nationals by that year. Test it by finding out which area had the most Moroccan people in both 1992 and 2015\n",
    "8. Find the Area(s) where fewest foreingers lived in Copenhagen in 1992 and 2015 respectively\n",
    "9. Find out what age most French people have in 2015"
   ]
  },
  {
   "cell_type": "code",
   "execution_count": 5,
   "id": "394de577-cfaf-49f2-b5df-05354f73b813",
   "metadata": {},
   "outputs": [],
   "source": [
    "filename = '../data/befkbhalderstatkode.csv'\n",
    "data = np.genfromtxt(filename, delimiter=',', dtype=np.uint, skip_header=1)\n",
    "dd = data\n"
   ]
  },
  {
   "cell_type": "code",
   "execution_count": 6,
   "id": "0710202a-c552-4c2e-83bc-3cb19d85d0fa",
   "metadata": {},
   "outputs": [
    {
     "name": "stdout",
     "output_type": "stream",
     "text": [
      "German children aged 0 in cph in 2015\n",
      " 35\n"
     ]
    }
   ],
   "source": [
    "mask = (dd[:,0] == 2015) & (dd[:,2] == 0) & (dd[:,3] == 5180)\n",
    "print('German children aged 0 in cph in 2015\\n',np.sum(dd[mask][:,4]))"
   ]
  },
  {
   "cell_type": "code",
   "execution_count": 19,
   "id": "fd839adf-6603-4cce-8a44-327a09f39e5f",
   "metadata": {},
   "outputs": [],
   "source": [
    "def population_data(year, area=None, age=None , country=None):\n",
    "    filename = '../data/befkbhalderstatkode.csv'\n",
    "    dd = np.genfromtxt(filename, delimiter=',', dtype=np.uint, skip_header=1)\n",
    "    mask_year = dd[:, 0] == year \n",
    "    mask_area = dd[:, 1] == area if area else True\n",
    "    mask_age = dd[:, 2] == age if age else True\n",
    "    mask_country = dd[:, 3] == country if country else True\n",
    "    population = (dd[(mask_year) & (mask_area)  & (mask_age)  & (mask_country)])\n",
    "    return population[:,4].sum()\n",
    "\n"
   ]
  },
  {
   "cell_type": "code",
   "execution_count": 17,
   "id": "aa6dba59-b79d-4940-a1c4-fb06fa7ba857",
   "metadata": {},
   "outputs": [
    {
     "name": "stdout",
     "output_type": "stream",
     "text": [
      "Population of 37 year olds in valby 2015: 775\n"
     ]
    }
   ],
   "source": [
    "print('Population of 37 year olds in valby 2015:',population_data(2014,5,37,5100))\n"
   ]
  },
  {
   "cell_type": "code",
   "execution_count": 20,
   "id": "8b286e09-cd43-4568-bc5d-bbdc76851299",
   "metadata": {},
   "outputs": [
    {
     "name": "stdout",
     "output_type": "stream",
     "text": [
      "Population in valby 2015: 44438\n"
     ]
    }
   ],
   "source": [
    "print('Population in valby 2015:',population_data(2014,5,None,5100))"
   ]
  },
  {
   "cell_type": "markdown",
   "id": "3ec9c528-0c76-4c25-81a6-df57dc16f6de",
   "metadata": {},
   "source": [
    "6. create a new function that can also give average values for each year if year whas not provided."
   ]
  },
  {
   "cell_type": "code",
   "execution_count": 33,
   "id": "8e12e97f-fd23-4374-a198-c1623bcc9a7f",
   "metadata": {},
   "outputs": [
    {
     "name": "stdout",
     "output_type": "stream",
     "text": [
      "Average age of population in 2015 35.38101655192617\n"
     ]
    }
   ],
   "source": [
    "def average_population(year =None):\n",
    "    age = 0\n",
    "    mask_year = dd[:,0] == year if year else True\n",
    "    data = dd[mask_year]\n",
    "    \n",
    "    for el in data:\n",
    "        age += el[2].sum() * el[4].sum()\n",
    "        \n",
    "    return age / data[:,4].sum()\n",
    "\n",
    "year = 2015\n",
    "print('Average age of population in',year,average_population(year))"
   ]
  },
  {
   "cell_type": "code",
   "execution_count": null,
   "id": "89e584ce-80a7-46df-af54-5ac752b89c4c",
   "metadata": {},
   "outputs": [],
   "source": []
  }
 ],
 "metadata": {
  "kernelspec": {
   "display_name": "Python 3 (ipykernel)",
   "language": "python",
   "name": "python3"
  },
  "language_info": {
   "codemirror_mode": {
    "name": "ipython",
    "version": 3
   },
   "file_extension": ".py",
   "mimetype": "text/x-python",
   "name": "python",
   "nbconvert_exporter": "python",
   "pygments_lexer": "ipython3",
   "version": "3.10.6"
  }
 },
 "nbformat": 4,
 "nbformat_minor": 5
}
