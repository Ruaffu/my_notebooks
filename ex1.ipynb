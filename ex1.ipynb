{
 "cells": [
  {
   "cell_type": "markdown",
   "id": "e6f8603b-c68f-49fa-86f5-f4c2221d3a66",
   "metadata": {},
   "source": [
    "1. Create 5 list comprehensions to solve the following 5 problems:\n",
    "  1. Iterate a list of names to return a list of the names starting with H\n",
    "  2. In one line create a list of the numbers 1-100 to the power of 3\n",
    "  3. Iterate a list of names to create a list of tuples where the tuples first value is the length of the name and the second is the name\n",
    "  4. Iterate over each character in a string and get only those that are nummeric\n",
    "  5. Using only a list comprehension wrapped in set() get all possible combinations from throwing 2 dice (hint use 2 for loops in a single list comprehension). Result should look like: [2,3,4,5,6,7,8,...] or a more complex/accurate solution: [(1,1),(1,2)...] in a way that (1,2) is equal to (2,1). \n",
    "\n",
    "2. Create 2 dictionary comprehensions to solve the following:\n",
    "  1. Iterate a list of names and create a dictionary where key is the name and value is the length of the name\n",
    "  2. Iterate a list of numbers and create a dictionary with {key:value} being {number:squareroot_of_number}\n",
    "\n",
    "3. Extra assignment (This one goes beyond what is covered in the course notebooks. So only do it if you want an extra challenge).\n",
    "  - Progammatically using loops create a small program to produce a dictionary with all the 2 dice throw combinations as keys (eg: 2,3,4...etc) and their likelyhood in percent as values"
   ]
  },
  {
   "cell_type": "code",
   "execution_count": 2,
   "id": "e4b5865d-2311-4e28-ade9-9a8e2ba93432",
   "metadata": {},
   "outputs": [
    {
     "data": {
      "text/plain": [
       "['Henning', 'Hanne']"
      ]
     },
     "execution_count": 2,
     "metadata": {},
     "output_type": "execute_result"
    }
   ],
   "source": [
    "#1.2\n",
    "my_list = [\"Bob\", \"Henning\", \"Alex\", \"Hanne\"]\n",
    "\n",
    "results = [name for name in my_list if name.lower().startswith(\"h\")]\n",
    "results"
   ]
  },
  {
   "cell_type": "code",
   "execution_count": 4,
   "id": "88e78225-bff9-47ba-a633-2184c9efe926",
   "metadata": {},
   "outputs": [
    {
     "name": "stdout",
     "output_type": "stream",
     "text": [
      "[1, 8, 27, 64, 125, 216, 343, 512, 729, 1000, 1331, 1728, 2197, 2744, 3375, 4096, 4913, 5832, 6859, 8000, 9261, 10648, 12167, 13824, 15625, 17576, 19683, 21952, 24389, 27000, 29791, 32768, 35937, 39304, 42875, 46656, 50653, 54872, 59319, 64000, 68921, 74088, 79507, 85184, 91125, 97336, 103823, 110592, 117649, 125000, 132651, 140608, 148877, 157464, 166375, 175616, 185193, 195112, 205379, 216000, 226981, 238328, 250047, 262144, 274625, 287496, 300763, 314432, 328509, 343000, 357911, 373248, 389017, 405224, 421875, 438976, 456533, 474552, 493039, 512000, 531441, 551368, 571787, 592704, 614125, 636056, 658503, 681472, 704969, 729000, 753571, 778688, 804357, 830584, 857375, 884736, 912673, 941192, 970299, 1000000]\n"
     ]
    }
   ],
   "source": [
    "#1.3\n",
    "numbers = [i**3 for i in range(1,101)]\n",
    "print(numbers)"
   ]
  },
  {
   "cell_type": "code",
   "execution_count": 10,
   "id": "89fe8544-5065-4cac-885e-6316d1b30763",
   "metadata": {},
   "outputs": [
    {
     "name": "stdout",
     "output_type": "stream",
     "text": [
      "[(3, 'Bob'), (7, 'Henning'), (4, 'Alex'), (5, 'Hanne')]\n"
     ]
    }
   ],
   "source": [
    "#1.4\n",
    "names = [\"Bob\", \"Henning\", \"Alex\", \"Hanne\"]\n",
    "tuples = [tuple([int(length), name])for name in names for length in str(len(name))]\n",
    "print(tuples)"
   ]
  },
  {
   "cell_type": "code",
   "execution_count": 11,
   "id": "74b4d845-7395-45a3-8915-88f3296283d1",
   "metadata": {},
   "outputs": [
    {
     "data": {
      "text/plain": [
       "[7, 6, 5, 6, 5, 7, 9, 8, 0]"
      ]
     },
     "execution_count": 11,
     "metadata": {},
     "output_type": "execute_result"
    }
   ],
   "source": [
    "#1.5\n",
    "string = 'adsad765da65a7sdafaf98af0f'\n",
    "my_list = list(string)\n",
    "numbers = [int(char) for char in my_list if char.isdigit()]\n",
    "numbers"
   ]
  },
  {
   "cell_type": "code",
   "execution_count": 12,
   "id": "6a3de850-b578-44fe-90a9-f2ad4525cfd0",
   "metadata": {},
   "outputs": [
    {
     "data": {
      "text/plain": [
       "{(1, 1),\n",
       " (1, 2),\n",
       " (1, 3),\n",
       " (1, 4),\n",
       " (1, 5),\n",
       " (1, 6),\n",
       " (2, 1),\n",
       " (2, 2),\n",
       " (2, 3),\n",
       " (2, 4),\n",
       " (2, 5),\n",
       " (2, 6),\n",
       " (3, 1),\n",
       " (3, 2),\n",
       " (3, 3),\n",
       " (3, 4),\n",
       " (3, 5),\n",
       " (3, 6),\n",
       " (4, 1),\n",
       " (4, 2),\n",
       " (4, 3),\n",
       " (4, 4),\n",
       " (4, 5),\n",
       " (4, 6),\n",
       " (5, 1),\n",
       " (5, 2),\n",
       " (5, 3),\n",
       " (5, 4),\n",
       " (5, 5),\n",
       " (5, 6),\n",
       " (6, 1),\n",
       " (6, 2),\n",
       " (6, 3),\n",
       " (6, 4),\n",
       " (6, 5),\n",
       " (6, 6)}"
      ]
     },
     "execution_count": 12,
     "metadata": {},
     "output_type": "execute_result"
    }
   ],
   "source": [
    "#1.6\n",
    "dice = [1,2,3,4,5,6]\n",
    "results = set([tuple([d1,d2]) for d1 in dice for d2 in dice])\n",
    "results"
   ]
  },
  {
   "cell_type": "code",
   "execution_count": 13,
   "id": "e282e922-55bd-46c7-921c-81e94fb7eb1c",
   "metadata": {},
   "outputs": [
    {
     "data": {
      "text/plain": [
       "{3: 'Bob', 7: 'Henning', 4: 'Alex', 5: 'Hanne'}"
      ]
     },
     "execution_count": 13,
     "metadata": {},
     "output_type": "execute_result"
    }
   ],
   "source": [
    "#2.1\n",
    "names = [\"Bob\", \"Henning\", \"Alex\", \"Hanne\"]\n",
    "dictionary = {len(name):name for name in names}\n",
    "dictionary"
   ]
  },
  {
   "cell_type": "code",
   "execution_count": 17,
   "id": "200c9cfb-256d-4ae0-b0b5-66732cdd506a",
   "metadata": {},
   "outputs": [
    {
     "data": {
      "text/plain": [
       "{2: 1.4142135623730951,\n",
       " 4: 2.0,\n",
       " 6: 2.449489742783178,\n",
       " 8: 2.8284271247461903,\n",
       " 10: 3.1622776601683795}"
      ]
     },
     "execution_count": 17,
     "metadata": {},
     "output_type": "execute_result"
    }
   ],
   "source": [
    "#2.2\n",
    "import math\n",
    "numbers = [2,4,6,8,10]\n",
    "my_dict = {numb:math.sqrt(numb) for numb in numbers}\n",
    "my_dict"
   ]
  },
  {
   "cell_type": "code",
   "execution_count": null,
   "id": "b73919af-ba80-4a15-8cc7-6b4e243949fa",
   "metadata": {},
   "outputs": [],
   "source": []
  }
 ],
 "metadata": {
  "kernelspec": {
   "display_name": "Python 3 (ipykernel)",
   "language": "python",
   "name": "python3"
  },
  "language_info": {
   "codemirror_mode": {
    "name": "ipython",
    "version": 3
   },
   "file_extension": ".py",
   "mimetype": "text/x-python",
   "name": "python",
   "nbconvert_exporter": "python",
   "pygments_lexer": "ipython3",
   "version": "3.10.6"
  }
 },
 "nbformat": 4,
 "nbformat_minor": 5
}
